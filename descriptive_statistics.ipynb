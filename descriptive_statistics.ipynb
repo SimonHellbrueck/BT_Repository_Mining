{
 "cells": [
  {
   "cell_type": "code",
   "execution_count": 9,
   "metadata": {},
   "outputs": [],
   "source": [
    "java_code_smells = read.csv(\"java_code_smells.csv\", header = TRUE)\n",
    "kotlin_code_smells = read.csv(\"kotlin_code_smells.csv\", header = TRUE)"
   ]
  },
  {
   "cell_type": "code",
   "execution_count": 19,
   "metadata": {},
   "outputs": [
    {
     "data": {
      "text/plain": [
       "                            Project          LF                LPL         \n",
       " 2dxgujun/AndroidTagGroup       :  1   Min.   :    0.00   Min.   :    0.0  \n",
       " 500px/500px-android-blur       :  1   1st Qu.:    0.00   1st Qu.:   16.0  \n",
       " 81813780/AVLoadingIndicatorView:  1   Median :    1.00   Median :   57.0  \n",
       " aa112901/remusic               :  1   Mean   :   64.99   Mean   :  465.8  \n",
       " abel533/Mapper                 :  1   3rd Qu.:   10.00   3rd Qu.:  261.0  \n",
       " abel533/MyBatis-Spring-Boot    :  1   Max.   :19638.00   Max.   :21296.0  \n",
       " (Other)                        :983                                       \n",
       "      TMM             Total            Lifespan        Issues      \n",
       " Min.   :   0.0   Min.   :    0.0   Min.   :  88   Min.   :   0.0  \n",
       " 1st Qu.:   3.0   1st Qu.:   21.0   1st Qu.: 976   1st Qu.:  16.0  \n",
       " Median :  14.0   Median :   75.0   Median :1410   Median :  44.0  \n",
       " Mean   : 114.9   Mean   :  645.8   Mean   :1524   Mean   : 109.8  \n",
       " 3rd Qu.:  69.0   3rd Qu.:  356.0   3rd Qu.:2010   3rd Qu.: 121.0  \n",
       " Max.   :8852.0   Max.   :30853.0   Max.   :3786   Max.   :1829.0  \n",
       "                                                                   \n",
       "      LOC             Commits        Contributors       Stargazers   \n",
       " Min.   :      2   Min.   :     2   Min.   :   1.00   Min.   : 1812  \n",
       " 1st Qu.:   2387   1st Qu.:   103   1st Qu.:   7.00   1st Qu.: 2228  \n",
       " Median :   8051   Median :   325   Median :  17.00   Median : 3058  \n",
       " Mean   :  75028   Mean   :  2787   Mean   :  60.99   Mean   : 4436  \n",
       " 3rd Qu.:  39955   3rd Qu.:  1264   3rd Qu.:  56.00   3rd Qu.: 4900  \n",
       " Max.   :6389975   Max.   :384553   Max.   :2952.00   Max.   :41682  \n",
       "                                                                     "
      ]
     },
     "metadata": {},
     "output_type": "display_data"
    }
   ],
   "source": [
    "summary(java_code_smells)"
   ]
  },
  {
   "cell_type": "code",
   "execution_count": 20,
   "metadata": {},
   "outputs": [
    {
     "data": {
      "text/plain": [
       "                          Project          LF                LPL          \n",
       "                              :  5   Min.   :   0.000   Min.   :    0.00  \n",
       " 0xFireball/Enlightened       :  1   1st Qu.:   0.000   1st Qu.:    1.00  \n",
       " 2dust/v2rayNG                :  1   Median :   0.000   Median :    4.00  \n",
       " 2dxgujun/Kpan                :  1   Mean   :   7.531   Mean   :   34.95  \n",
       " 360Conferences/chicago-roboto:  1   3rd Qu.:   1.000   3rd Qu.:   15.00  \n",
       " 550609334/Twobbble           :  1   Max.   :4746.000   Max.   :11202.00  \n",
       " (Other)                      :984                                        \n",
       "      TMM              Total             Lifespan          Issues       \n",
       " Min.   :   0.00   Min.   :    0.00   Min.   :   6.0   Min.   :   0.00  \n",
       " 1st Qu.:   1.00   1st Qu.:    3.00   1st Qu.: 337.5   1st Qu.:   1.00  \n",
       " Median :   3.00   Median :    9.00   Median : 591.5   Median :   3.00  \n",
       " Mean   :  13.51   Mean   :   55.99   Mean   : 698.8   Mean   :  14.74  \n",
       " 3rd Qu.:   9.75   3rd Qu.:   29.00   3rd Qu.: 942.0   3rd Qu.:  10.75  \n",
       " Max.   :2896.00   Max.   :18844.00   Max.   :3264.0   Max.   :1162.00  \n",
       "                                                                        \n",
       "      LOC               Commits         Contributors       Stargazers     \n",
       " Min.   :      0.0   Min.   :    1.0   Min.   :  1.000   Min.   :   64.0  \n",
       " 1st Qu.:    556.5   1st Qu.:   32.0   1st Qu.:  2.000   1st Qu.:  102.0  \n",
       " Median :   1510.5   Median :   83.0   Median :  4.000   Median :  168.0  \n",
       " Mean   :   5663.3   Mean   :  415.1   Mean   :  9.711   Mean   :  552.5  \n",
       " 3rd Qu.:   4024.2   3rd Qu.:  285.0   3rd Qu.:  8.000   3rd Qu.:  371.8  \n",
       " Max.   :1030909.0   Max.   :81451.0   Max.   :370.000   Max.   :25332.0  \n",
       "                                                                          "
      ]
     },
     "metadata": {},
     "output_type": "display_data"
    }
   ],
   "source": [
    "summary(kotlin_code_smells)"
   ]
  }
 ],
 "metadata": {
  "kernelspec": {
   "display_name": "R",
   "language": "R",
   "name": "ir"
  },
  "language_info": {
   "codemirror_mode": "r",
   "file_extension": ".r",
   "mimetype": "text/x-r-source",
   "name": "R",
   "pygments_lexer": "r",
   "version": "3.5.1"
  }
 },
 "nbformat": 4,
 "nbformat_minor": 2
}
