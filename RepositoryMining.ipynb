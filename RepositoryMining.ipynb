{
 "cells": [
  {
   "cell_type": "code",
   "execution_count": 13,
   "metadata": {},
   "outputs": [],
   "source": [
    "import requests\n",
    "import json\n",
    "url_java_repos = 'https://api.github.com/search/repositories?q=stars:>=10000+language:java&sort=stars&order=desc'\n",
    "url_kotlin_repos = 'https://api.github.com/search/repositories?q=stars:>=1000+language:kotlin&sort=stars&order=desc'"
   ]
  },
  {
   "cell_type": "code",
   "execution_count": 14,
   "metadata": {},
   "outputs": [],
   "source": [
    "r_java = requests.get(url_java_repos)\n",
    "r_kotlin = requests.get(url_kotlin_repos)"
   ]
  },
  {
   "cell_type": "code",
   "execution_count": 15,
   "metadata": {},
   "outputs": [],
   "source": [
    "input_java_repo = json.loads(r_java.text)\n",
    "input_kotlin_repo = json.loads(r_kotlin.text)"
   ]
  },
  {
   "cell_type": "code",
   "execution_count": 16,
   "metadata": {},
   "outputs": [],
   "source": [
    "with open('test/java_repository_names', 'a') as text_file:\n",
    "    for repo in input_java_repo['items']:\n",
    "        text_file.write(repo['full_name'])\n",
    "        text_file.write('\\n')"
   ]
  },
  {
   "cell_type": "code",
   "execution_count": 17,
   "metadata": {},
   "outputs": [],
   "source": [
    "with open('test/kotlin_repository_names', 'a') as text_file:\n",
    "    for repo in input_kotlin_repo['items']:\n",
    "        text_file.write(repo['full_name'])\n",
    "        text_file.write('\\n')"
   ]
  }
 ],
 "metadata": {
  "kernelspec": {
   "display_name": "Python 3",
   "language": "python",
   "name": "python3"
  },
  "language_info": {
   "codemirror_mode": {
    "name": "ipython",
    "version": 3
   },
   "file_extension": ".py",
   "mimetype": "text/x-python",
   "name": "python",
   "nbconvert_exporter": "python",
   "pygments_lexer": "ipython3",
   "version": "3.7.0"
  }
 },
 "nbformat": 4,
 "nbformat_minor": 2
}
