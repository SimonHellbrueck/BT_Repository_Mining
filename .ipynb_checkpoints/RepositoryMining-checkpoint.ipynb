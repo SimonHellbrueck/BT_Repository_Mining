{
 "cells": [
  {
   "cell_type": "code",
   "execution_count": 2,
   "metadata": {},
   "outputs": [],
   "source": [
    "import requests\n",
    "import json\n",
    "import datetime\n",
    "from datetime import date"
   ]
  },
  {
   "cell_type": "code",
   "execution_count": 3,
   "metadata": {},
   "outputs": [],
   "source": [
    "def getLifespanInDays(givenDate):\n",
    "    datetime_now = getDateFormat(datetime.datetime.today().strftime('%Y-%m-%d'))    \n",
    "    delta = datetime_now-givenDate\n",
    "    return delta.days"
   ]
  },
  {
   "cell_type": "code",
   "execution_count": 4,
   "metadata": {},
   "outputs": [],
   "source": [
    "def getDateFormat(givenDate):\n",
    "    year = int(givenDate[:-6])\n",
    "    month = int(givenDate[5:7])\n",
    "    day = int(givenDate[8:10])\n",
    "    return (date(year, month, day))"
   ]
  },
  {
   "cell_type": "code",
   "execution_count": 5,
   "metadata": {},
   "outputs": [],
   "source": [
    "numberOfPages = 1\n",
    "input_java_repo = []\n",
    "input_kotlin_repo = []"
   ]
  },
  {
   "cell_type": "code",
   "execution_count": 6,
   "metadata": {},
   "outputs": [],
   "source": [
    "for pageNumber in range(numberOfPages):\n",
    "    url_java_repos = 'https://api.github.com/search/repositories?q=stars%3A%3E%3D10+language%3Ajava&sort=stars&order=desc&page='+str(pageNumber+1)+'&per_page=100'\n",
    "    url_kotlin_repos = 'https://api.github.com/search/repositories?q=stars%3A%3E%3D10+language%3Akotlin&sort=stars&order=desc&page='+str(pageNumber+1)+'&per_page=100' \n",
    "    r_java = requests.get(url_java_repos)\n",
    "    r_kotlin = requests.get(url_kotlin_repos)\n",
    "    input_java_repo.append(json.loads(r_java.text))\n",
    "    input_kotlin_repo.append(json.loads(r_kotlin.text))"
   ]
  },
  {
   "cell_type": "code",
   "execution_count": 7,
   "metadata": {},
   "outputs": [],
   "source": [
    "with open('java_repository_names', 'a') as text_file:\n",
    "    for pageNumber in range(len(input_java_repo)):\n",
    "        for repo in input_java_repo[pageNumber]['items']:\n",
    "            date_repo = repo['created_at'][:-10]            \n",
    "            lifespan = getLifespanInDays(getDateFormat(date_repo))\n",
    "            text_file.write(repo['full_name']+', '+str(lifespan))\n",
    "            text_file.write('\\n')"
   ]
  },
  {
   "cell_type": "code",
   "execution_count": 8,
   "metadata": {},
   "outputs": [],
   "source": [
    "with open('kotlin_repository_names', 'a') as text_file:\n",
    "    for pageNumber in range(len(input_kotlin_repo)):\n",
    "        for repo in input_kotlin_repo[pageNumber]['items']:            \n",
    "            date_repo = repo['created_at'][:-10]\n",
    "            lifespan = getLifespanInDays(getDateFormat(date_repo))\n",
    "            text_file.write(repo['full_name']+', '+str(lifespan))\n",
    "            text_file.write('\\n')"
   ]
  }
 ],
 "metadata": {
  "kernelspec": {
   "display_name": "Python 3",
   "language": "python",
   "name": "python3"
  },
  "language_info": {
   "codemirror_mode": {
    "name": "ipython",
    "version": 3
   },
   "file_extension": ".py",
   "mimetype": "text/x-python",
   "name": "python",
   "nbconvert_exporter": "python",
   "pygments_lexer": "ipython3",
   "version": "3.7.0"
  }
 },
 "nbformat": 4,
 "nbformat_minor": 2
}
